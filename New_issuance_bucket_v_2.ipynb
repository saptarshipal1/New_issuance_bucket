{
  "cells": [
    {
      "cell_type": "code",
      "execution_count": null,
      "metadata": {
        "id": "t2IUZh__DyjD"
      },
      "outputs": [],
      "source": [
        "# importing some packages\n",
        "\n",
        "import pandas as pd\n",
        "import numpy as np\n",
        "from matplotlib import pyplot as plt\n",
        "import seaborn as sns\n",
        "from datetime import date\n"
      ]
    },
    {
      "cell_type": "code",
      "execution_count": null,
      "metadata": {},
      "outputs": [],
      "source": [
        "#Input\n",
        "\n",
        "df = pd.read_excel('new_issuance_bucket_ref_data_v_2.xlsx')\n",
        "df1 = df.copy()\n",
        "df1.shape"
      ]
    },
    {
      "cell_type": "code",
      "execution_count": null,
      "metadata": {},
      "outputs": [],
      "source": [
        "df1.isnull().sum()"
      ]
    },
    {
      "cell_type": "code",
      "execution_count": null,
      "metadata": {},
      "outputs": [],
      "source": [
        "df1.info()"
      ]
    },
    {
      "cell_type": "code",
      "execution_count": null,
      "metadata": {},
      "outputs": [],
      "source": [
        "df1.select_dtypes(include=\"datetime\").columns"
      ]
    },
    {
      "cell_type": "code",
      "execution_count": null,
      "metadata": {},
      "outputs": [],
      "source": [
        "df1.select_dtypes(include=\"datetime\").info()"
      ]
    },
    {
      "cell_type": "code",
      "execution_count": null,
      "metadata": {},
      "outputs": [],
      "source": [
        "current_fixed_date = pd.to_datetime('2023-04-24',format = '%Y-%m-%d')\n"
      ]
    },
    {
      "cell_type": "code",
      "execution_count": null,
      "metadata": {
        "id": "I_a1M6mFg4GY"
      },
      "outputs": [],
      "source": [
        "#Data standardization\n",
        "def time_standard(df1):\n",
        "    df1['Dated Date'] = df1['Dated Date'].dt.normalize()\n",
        "    df1['Maturity'] = df1['Maturity'].dt.normalize()\n",
        "\n",
        "\n",
        "    df1['date_diff'] = df1['Dated Date']-current_fixed_date\n",
        "    df1['date_diff'] = df1['date_diff'].values.astype('timedelta64[D]')\n",
        "    df1['Old_forward_bond']= 0\n",
        "    df1['Analysis'] = 0\n",
        "    \n",
        "    return df1\n",
        "\n",
        "time_standard(df1)\n"
      ]
    },
    {
      "cell_type": "code",
      "execution_count": null,
      "metadata": {
        "id": "9jONTInauVq2"
      },
      "outputs": [],
      "source": [
        "def old_norm_fwd_bond(df1):\n",
        "    \n",
        "    old_bond_cutoff_date = pd.to_datetime('2023-04-17',format = '%Y-%m-%d')\n",
        "\n",
        "    conditions =(\n",
        "        (df1['Dated Date']<= old_bond_cutoff_date),\n",
        "        (df1['date_diff']>= '90 days 00:00:00'),\n",
        "        ((df1['Dated Date'] > old_bond_cutoff_date) & (df1['date_diff'] < '90 days 00:00:00'))\n",
        "    )\n",
        "    values = ['old bond','forward bond','normal bond']\n",
        "    df1['Old_forward_bond'] = np.select(conditions,values)\n",
        "    \n",
        "    return df1\n",
        "\n",
        "old_norm_fwd_bond(df1)\n",
        "\n",
        "\n"
      ]
    },
    {
      "cell_type": "code",
      "execution_count": null,
      "metadata": {
        "id": "TXpkflclUH9a"
      },
      "outputs": [],
      "source": [
        "def bond_categ_logics(df1):\n",
        "\n",
        "    #Inactive Bonds\n",
        "    df1.loc[(df1['Rating'] == 'Called') | (df1['Rating'] == 'Matured'),['Analysis']] = 'Bonds inactive pricing'\n",
        "\n",
        "    # Taxable, New Pref/etm from rating column\n",
        "    df1.loc[(df1['Rating'].isin(['Pre- refunded','Escrowed'])) & (df1['Bond Type'] == 'TAX'),['Analysis']] = 'Old Bond.New pref etm process.Send to Jan for pricing.'\n",
        "\n",
        "    # Non Taxable, New Pref/etm from rating column\n",
        "    df1.loc[(df1['Rating'].isin(['Pre- refunded','Escrowed'])) & (df1['Bond Type'].isin(['GO','REV'])),['Analysis']] = 'Old Bond.New pref etm process.'\n",
        "\n",
        "    #Secondary Issuance\n",
        "    df1.loc[(df1['Analysis'] == 0) & (df1['Old_forward_bond']=='old bond') & (df1['Prior Reason'] == 'Secondarily Insured') & (df1['Status Type']=='Active'),['Analysis']] = 'Old Bond.Secondary issuance process'\n",
        "\n",
        "    #Partially Prerefunded where redemption type is Partially Prerefunded\n",
        "    df1.loc[(df1['Analysis'] == 0) & (df1['Old_forward_bond']=='old bond') & (df1['Redemption Type'] == 'Partially Prerefunded') & (df1['Status Type']=='Active'),['Analysis']] = 'Old Bond.Partially Prerefunded process'\n",
        "\n",
        "    #Old bond, new pref etm, not in rating, taxable\n",
        "    df1.loc[(df1['Analysis'] == 0) & (df1['Old_forward_bond']=='old bond') & (df1['Bond Type']=='TAX') & (df1['Redemption Type'].isin(['Pre-Refunded','Escrowed'])) & (df1['Status Type']=='Active'),['Analysis']] = 'Old Bond.New pref etm process. Send to Jan for latest pricing'\n",
        "\n",
        "    #Old bond, new pref etm, not in rating, non taxable\n",
        "    df1.loc[(df1['Analysis'] == 0) & (df1['Old_forward_bond']=='old bond') & (df1['Bond Type'].isin(['GO','REV'])) & (df1['Redemption Type'].isin(['Pre-Refunded','Escrowed'])) & (df1['Status Type']=='Active'),['Analysis']] = 'Old Bond.New pref etm process.Price from latest Trades.'\n",
        "\n",
        "    #Old bond, redemption type is null, prior reason refunding, prior cusip is not null.\n",
        "    df1.loc[(df1['Analysis'] == 0) & (df1['Old_forward_bond']=='old bond') & (df1['Redemption Type'].isnull()) & (df1['Status Type']=='Active') & (df1['Prior Reason']=='Refunding') & (df1['Prior Cusip'].notnull()),['Analysis']] = 'Old Bond.Check original cusips redemption type. Most likely partially prerefunded.'\n",
        "\n",
        "    #Old bond, redemption type is null, prior reason is null, prior cusip is null.\n",
        "    df1.loc[(df1['Analysis'] == 0) & (df1['Old_forward_bond']=='old bond') & (df1['Redemption Type'].isnull()) & (df1['Status Type']=='Active') & (df1['Prior Reason'].isnull()) & (df1['Prior Cusip'].isnull()),['Analysis']] = 'Old Bond.If latest trade available do bucketing and turn bond on.No Trade info available, turn bond off. Recent trade info NA then bucket and ask analyst for price.'\n",
        "\n",
        "    #TOBs\n",
        "    df1.loc[(df1['Analysis'] == 0) & (df1['Old_forward_bond']=='normal bond') & (df1['Debt Type']=='Tender Option Bond'),['Analysis']] = 'Tobs'\n",
        "\n",
        "    #Forward Bonds\n",
        "    df1.loc[(df1['Analysis'] == 0) & (df1['Analysis'] == ' ') & (df1['Old_forward_bond']=='forward bond'),['Analysis']] = 'Forward Bond'\n",
        "\n",
        "    #IG Taxable Bonds\n",
        "    df1.loc[(df1['Analysis'] == 0) & (df1['Old_forward_bond']=='normal bond') & (df1['Rating'].isin(['A','A+','AA','AA+','AAA','A-','AA-'])) & (df1['Bond Type']=='TAX'),['Analysis']] = 'new issuance taxable'\n",
        "\n",
        "    #IG MTEMS Bonds\n",
        "    df1.loc[(df1['Analysis'] == 0) & (df1['Old_forward_bond']=='normal bond') & (df1['Bond Type'].isin(['GO','REV'])) & (df1['Rating'].isin(['A','A+','AA','AA+','AAA','A-','AA-'])) & (df1['Issue Discription'].isin(['Tax-Exempt Mortgage-Backed','Tax-exempt Mortgage-backed','TAX-EXEMPT MORTGAGE-BACKED','TEMS','Tax-Exempt Mortgage-Backed','Tax- Exempt Mortgage - Backed Securities','M-TEBS','Mortgage-Backed Securities'])),['Analysis']] = 'Tax Exempt Mortgage Back Securities Housing Bonds'\n",
        "\n",
        "    #IG Zero coupon Bonds non callable\n",
        "    df1.loc[(df1['Analysis'] == 0) & (df1['Old_forward_bond']=='normal bond') & (df1['Rating'].isin(['A','A+','AA','AA+','AAA','A-','AA-'])) & (df1['Coupon Code'] == 'ZERO_COUPON') & (df1['Callable'] == 'No'),['Analysis']] = 'Zero coupon'\n",
        "\n",
        "    #IG Coupon code not Zero coupon, coupon is zero and Bonds callable\n",
        "    df1.loc[(df1['Analysis'] == 0) & (df1['Old_forward_bond']=='normal bond') & (df1['Rating'].isin(['A','A+','AA','AA+','AAA','A-','AA-'])) & (df1['Coupon Code'] != 'ZERO_COUPON') & (df1['Coupon'] == 0) & (df1['Callable'] == 'Yes'),['Analysis']] = 'This may not be Zero coupon callable. Check with ref data.'\n",
        "\n",
        "    #IG Coupon code not Zero coupon, coupon is zero and Bonds non callable\n",
        "    df1.loc[(df1['Analysis'] == 0) & (df1['Old_forward_bond']=='normal bond') & (df1['Rating'].isin(['A','A+','AA','AA+','AAA','A-','AA-'])) & (df1['Coupon Code'] != 'ZERO_COUPON') & (df1['Coupon'] == 0) & (df1['Callable'] == 'No'),['Analysis']] = 'This may not be Zero coupon. Check with ref data.'\n",
        "\n",
        "    #IG Zero coupon Bonds callable\n",
        "    df1.loc[(df1['Analysis'] == 0) & (df1['Old_forward_bond']=='normal bond') & (df1['Rating'].isin(['A','A+','AA','AA+','AAA','A-','AA-'])) & (df1['Coupon Code'] == 'ZERO_COUPON') & (df1['Callable'] == 'Yes'),['Analysis']] = 'Zero coupon callable'\n",
        "\n",
        "    #IG Variable Bonds\n",
        "    df1.loc[(df1['Analysis'] == 0) & (df1['Old_forward_bond']=='normal bond') & (df1['Rating'].isin(['A','A+','AA','AA+','AAA','A-','AA-'])) & (df1['Coupon Code']== 'Floating: Floating'),['Analysis']] = 'Variable bonds'\n",
        "\n",
        "    #IG Variable Index Bonds\n",
        "    df1.loc[(df1['Analysis'] == 0) & (df1['Old_forward_bond']=='normal bond') & (df1['Rating'].isin(['A','A+','AA','AA+','AAA','A-','AA-'])) & (df1['Coupon Code']== 'Floating: Fixed Margin over Index'),['Analysis']] = 'Variable bonds. Alert Andy for index bonds.'\n",
        "\n",
        "    #IG PAC Bonds\n",
        "    df1.loc[(df1['Analysis'] == 0) & (df1['Old_forward_bond']=='normal bond') & (df1['Rating'].isin(['A','A+','AA','AA+','AAA','A-','AA-'])) & (df1['Uop'].str.contains('housing', case=False, regex=True)),['Analysis']] ='Check fo PAC bond.'\n",
        "\n",
        "    #IG PUT Bonds\n",
        "    df1.loc[(df1['Analysis'] == 0) & (df1['Old_forward_bond']=='normal bond') & (df1['Rating'].isin(['A','A+','AA','AA+','AAA','A-','AA-'])) & (df1['Put Type']== 'Y') & (df1['Puttable']== 'Yes'),['Analysis']] = 'Put bond'\n",
        "\n",
        "    #IG Tobacco Settlement Bonds\n",
        "    df1.loc[(df1['Analysis'] == 0) & (df1['Old_forward_bond']=='normal bond') & (df1['Rating'].isin(['A','A+','AA','AA+','AAA','A-','AA-'])) & (df1['Issue Discription'].str.contains('Tobacco', case=False, regex = True)),['Analysis']] = 'Put in JI Temp. Alert Jim'\n",
        "\n",
        "    #IG AMT Bonds\n",
        "    df1.loc[(df1['Analysis'] == 0) & (df1['Old_forward_bond']=='normal bond') & (df1['Rating'].isin(['A','A+','AA','AA+','AAA','A-','AA-'])) & (df1['Amt']== 'Y'),['Analysis']] = 'AMT REV all ratings'\n",
        "\n",
        "    #IG COP Bonds\n",
        "    df1.loc[(df1['Analysis'] == 0) & (df1['Old_forward_bond']=='normal bond') & (df1['Rating'].isin(['A','A+','AA','AA+','AAA','A-','AA-'])) & (df1['Cop']== 'Y'),['Analysis']] = 'COP REV all ratings'\n",
        "\n",
        "    #IG GO BQ A Bonds\n",
        "    df1.loc[(df1['Analysis'] == 0) & (df1['Old_forward_bond']=='normal bond') & (df1['Bond Type'] == 'GO') & (df1['Rating'].isin(['A'])) & (df1['Bq']== 'Y'),['Analysis']] = ' GO BQ A bonds'\n",
        "\n",
        "    #IG GO BQ A+ Bonds\n",
        "    df1.loc[(df1['Analysis'] == 0) & (df1['Old_forward_bond']=='normal bond') & (df1['Bond Type'] == 'GO') & (df1['Rating'].isin(['A+'])) & (df1['Bq']== 'Y'),['Analysis']] = ' GO BQ A+ bonds'\n",
        "\n",
        "    #IG GO BQ AA Bonds\n",
        "    df1.loc[(df1['Analysis'] == 0) & (df1['Old_forward_bond']=='normal bond') & (df1['Bond Type'] == 'GO') & (df1['Rating'].isin(['AA'])) & (df1['Bq']== 'Y'),['Analysis']] = ' GO BQ AA bonds'\n",
        "\n",
        "    #IG GO BQ AA+ Bonds\n",
        "    df1.loc[(df1['Analysis'] == 0) & (df1['Old_forward_bond']=='normal bond') & (df1['Bond Type'] == 'GO') & (df1['Rating'].isin(['AA+'])) & (df1['Bq']== 'Y'),['Analysis']] = ' GO BQ AA+ bonds'\n",
        "\n",
        "    #IG GO BQ AAA Bonds\n",
        "    df1.loc[(df1['Analysis'] == 0) & (df1['Old_forward_bond']=='normal bond') & (df1['Bond Type'] == 'GO') & (df1['Rating'].isin(['AAA'])) & (df1['Bq']== 'Y'),['Analysis']] = ' GO BQ AAA bonds'\n",
        "\n",
        "    #IG GO BQ A- Bonds\n",
        "    df1.loc[(df1['Analysis'] == 0) & (df1['Old_forward_bond']=='normal bond') & (df1['Bond Type'] == 'GO') & (df1['Rating'].isin(['A-'])) & (df1['Bq']== 'Y'),['Analysis']] = ' GO BQ A- bonds'\n",
        "\n",
        "    #IG GO BQ AA- Bonds\n",
        "    df1.loc[(df1['Analysis'] == 0) & (df1['Old_forward_bond']=='normal bond') & (df1['Bond Type'] == 'GO') & (df1['Rating'].isin(['AA-'])) & (df1['Bq']== 'Y'),['Analysis']] = ' GO BQ AA- bonds'\n",
        "\n",
        "    #IG REV BQ Bonds\n",
        "    df1.loc[(df1['Analysis'] == 0) & (df1['Old_forward_bond']=='normal bond') & (df1['Bond Type'] == 'REV') & (df1['Rating'].isin(['A','A+','AA','AA+','AAA','A-','AA-'])) & (df1['Bq']== 'Y'),['Analysis']] = ' REV BQ ALL RATINGS'\n",
        "\n",
        "    #NR - high yield new issuances\n",
        "    df1.loc[(df1['Analysis'] == 0) & (df1['Old_forward_bond']=='normal bond') & (df1['Rating'].isin(['BB-','BB+','BBB-','BBB+','BBB','BB','NR'])),['Analysis']] = 'NR - high yield new issuances'\n",
        "\n",
        "    #Rebalance Cases\n",
        "    df1.loc[(df1['Analysis'] == 0) & (df1['Old_forward_bond']=='normal bond') & (df1['Rating'].isin(['A','A+','AA','AA+','AAA','A-','AA-'])) & (df1['Amt']== 'N') & (df1['Cop']== 'N') & (df1['Bq']== 'N'),['Analysis']] = ' Rebalance Cases'\n",
        "    \n",
        "    return df1\n",
        "\n",
        "bond_categ_logics(df1)\n"
      ]
    },
    {
      "cell_type": "code",
      "execution_count": null,
      "metadata": {
        "colab": {
          "base_uri": "https://localhost:8080/",
          "height": 17
        },
        "id": "kSvMXVnTu9KU",
        "outputId": "ae55fa7d-ba95-4c9a-e12f-2cf134da74ad"
      },
      "outputs": [],
      "source": [
        "\n",
        "#Output\n",
        "\n",
        "final_output = df1[['Dated Date', 'Maturity', 'Coupon', 'Coupon Code','Bond Type', 'Rating','Uop', 'Debt Type','Issue Discription','Put Date', 'Put Price'\n",
        "                    ,'Status Type','Amt', 'Cop', 'Bq','Status Sub Type', 'Prior Cusip', 'Default Type', 'Avg Life Date','Orig Cusip', 'Orig Cusip Type'\n",
        "                    , 'Prior Cusip.1', 'Prior Reason','Prior Date', 'Offering Price', 'Offering Yield', 'Redemption Date','Redemption Type'\n",
        "                    , 'date_diff', 'Old_forward_bond', 'Analysis']]\n",
        "final_output"
      ]
    }
  ],
  "metadata": {
    "colab": {
      "provenance": []
    },
    "kernelspec": {
      "display_name": "Python 3",
      "name": "python3"
    },
    "language_info": {
      "codemirror_mode": {
        "name": "ipython",
        "version": 3
      },
      "file_extension": ".py",
      "mimetype": "text/x-python",
      "name": "python",
      "nbconvert_exporter": "python",
      "pygments_lexer": "ipython3",
      "version": "3.10.0"
    }
  },
  "nbformat": 4,
  "nbformat_minor": 0
}
